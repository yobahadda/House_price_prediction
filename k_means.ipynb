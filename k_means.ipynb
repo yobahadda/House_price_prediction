{
 "cells": [
  {
   "cell_type": "code",
   "execution_count": 6,
   "metadata": {},
   "outputs": [],
   "source": [
    "import random\n",
    "\n",
    "def squared_distance(a, b):\n",
    "    \"\"\"Calculate the squared distance between two points.\"\"\"\n",
    "    return sum((x - y) ** 2 for x, y in zip(a, b))\n",
    "\n",
    "def vector_mean(vectors):\n",
    "    \"\"\"Compute the element-wise average of multiple vectors.\"\"\"\n",
    "    n = len(vectors)\n",
    "    return [sum(vector[i] for vector in vectors) / n for i in range(len(vectors[0]))]\n",
    "\n",
    "class KMeans:\n",
    "    \"\"\"PERFORMS KMEANS CLUSTERING\"\"\"\n",
    "    def __init__(self,k):\n",
    "        self.k = k\n",
    "        self.means = None\n",
    "    def classifier(self,input):\n",
    "        \"\"\"return index of the cluster closet to the input\"\"\"\n",
    "        return min(range(self.k), key=lambda i: squared_distance(input, self.means[i]))  \n",
    "    def train(self,inputs):\n",
    "        \"\"\"choose k random points as the initial means\"\"\"\n",
    "        self.means = random.sample(inputs,self.k)\n",
    "        assignements = None\n",
    "        while True:\n",
    "            # Find new assignments  \n",
    "            new_assignements = map(self.classifier,inputs)\n",
    "\n",
    "            \"\"\"if no assignements have changed, we're done\"\"\"\n",
    "            if assignements == new_assignements:\n",
    "                return \n",
    "            \"\"\"Otherwise keep the new assignements\"\"\"\n",
    "            assignements = new_assignements\n",
    "            \"\"\"and compute new means based on the new assignements\"\"\"\n",
    "            for i in range(self.k):\n",
    "                \"\"\" find all the points assigned to cluster i\"\"\"\n",
    "                i_points = [p for p,a in zip(inputs,assignements) if a == i]\n",
    "\n",
    "                if i_points:\n",
    "                    self.means[i] = vector_mean(i_points)\n",
    "\n"
   ]
  },
  {
   "cell_type": "code",
   "execution_count": null,
   "metadata": {},
   "outputs": [],
   "source": [
    "def squared_clustering_error(inputs,k):\n",
    "    \"\"\"finds the total squared error from k-means clustering the inputs\"\"\"\n",
    "    clusterer = KMeans()\n",
    "    clusterer.train(inputs)\n",
    "    means = clusterer.means\n",
    "    assignements = map()"
   ]
  }
 ],
 "metadata": {
  "kernelspec": {
   "display_name": "Python 3",
   "language": "python",
   "name": "python3"
  },
  "language_info": {
   "codemirror_mode": {
    "name": "ipython",
    "version": 3
   },
   "file_extension": ".py",
   "mimetype": "text/x-python",
   "name": "python",
   "nbconvert_exporter": "python",
   "pygments_lexer": "ipython3",
   "version": "3.12.0"
  }
 },
 "nbformat": 4,
 "nbformat_minor": 2
}
